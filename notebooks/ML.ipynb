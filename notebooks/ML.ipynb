{
 "cells": [
  {
   "cell_type": "markdown",
   "metadata": {},
   "source": [
    "## Sistema de recomendacion ML "
   ]
  },
  {
   "cell_type": "code",
   "execution_count": 1,
   "metadata": {},
   "outputs": [],
   "source": [
    "import pandas as pd\n",
    "import numpy as np\n",
    "import matplotlib.pyplot as plt\n",
    "import seaborn as sns\n",
    "from sklearn .feature_extraction.text import TfidfVectorizer\n",
    "from sklearn.metrics.pairwise import cosine_similarity\n",
    "from sklearn.decomposition import TruncatedSVD"
   ]
  },
  {
   "cell_type": "markdown",
   "metadata": {},
   "source": [
    "Metodo a usar : Similitud de coseno."
   ]
  },
  {
   "cell_type": "code",
   "execution_count": 2,
   "metadata": {},
   "outputs": [],
   "source": [
    "df_movies  = pd.read_csv('../data/df_movies_limpio.csv')"
   ]
  },
  {
   "cell_type": "markdown",
   "metadata": {},
   "source": [
    "# max_df=0.8, min_df=5, max_features=1000 = 1m 6.2s\n",
    "# max_df=0.7, min_df=5, max_features=1000 = 1m 12.8s\n",
    "# max_df=0.7, min_df=10, max_features=1000 = 58.9s\n"
   ]
  },
  {
   "cell_type": "code",
   "execution_count": 18,
   "metadata": {},
   "outputs": [],
   "source": [
    "vectorizer = TfidfVectorizer(max_df=0.8, min_df=10, max_features=200)\n",
    "tfidf_matrix = vectorizer.fit_transform(df_movies['title'])\n",
    "\n",
    "svd = TruncatedSVD(n_components=100)  \n",
    "tfidf_reduced = svd.fit_transform(tfidf_matrix)\n",
    "\n",
    "company_vectorizer = TfidfVectorizer(max_df=0.8, min_df=10, max_features=200)\n",
    "company_tfidf_matrix = company_vectorizer.fit_transform(df_movies['company_name'])\n",
    "\n",
    "# Reducir la dimensionalidad de la matriz TF-IDF de 'company_name'\n",
    "svd_company = TruncatedSVD(n_components=100)\n",
    "company_tfidf_reduced = svd_company.fit_transform(company_tfidf_matrix)\n",
    "\n",
    "features = np.column_stack([tfidf_reduced, company_tfidf_reduced, df_movies['popularity'].values])\n",
    "similarity_matrix = cosine_similarity(features)"
   ]
  },
  {
   "cell_type": "code",
   "execution_count": 22,
   "metadata": {},
   "outputs": [
    {
     "name": "stdout",
     "output_type": "stream",
     "text": [
      "Las 5 películas más similares a dracula: dead and loving it son:\n",
      "4838      dead reckoning\n",
      "13039      jack and jill\n",
      "11186         this is it\n",
      "12473    just go with it\n",
      "1145         double team\n",
      "Name: title, dtype: object\n"
     ]
    }
   ],
   "source": [
    "nombre_pelicula = \"dracula: dead and loving it\"  \n",
    "pelicula = df_movies[df_movies['title'] == nombre_pelicula]\n",
    "\n",
    "if not pelicula.empty:\n",
    "    pelicula_index = pelicula.index[0]\n",
    "    pelicula_similarities = similarity_matrix[pelicula_index]\n",
    "    most_similar_pelicula_indices = np.argsort(-pelicula_similarities)\n",
    "\n",
    "    # Excluir el índice del producto en sí mismo\n",
    "    most_similar_products_indices = most_similar_pelicula_indices[most_similar_pelicula_indices != pelicula_index]\n",
    "\n",
    "    # Obtenemos los nombres de los 5 productos más similares, excluyendo el producto en sí mismo\n",
    "    top_5_similar_products = df_movies.loc[most_similar_products_indices[:5], 'title']\n",
    "    print(\"Las 5 películas más similares a\",nombre_pelicula, \"son:\")\n",
    "    print(top_5_similar_products)\n",
    "else:\n",
    "    print(\"Producto no encontrado\")\n"
   ]
  }
 ],
 "metadata": {
  "kernelspec": {
   "display_name": "envPI",
   "language": "python",
   "name": "python3"
  },
  "language_info": {
   "codemirror_mode": {
    "name": "ipython",
    "version": 3
   },
   "file_extension": ".py",
   "mimetype": "text/x-python",
   "name": "python",
   "nbconvert_exporter": "python",
   "pygments_lexer": "ipython3",
   "version": "3.12.4"
  }
 },
 "nbformat": 4,
 "nbformat_minor": 2
}
