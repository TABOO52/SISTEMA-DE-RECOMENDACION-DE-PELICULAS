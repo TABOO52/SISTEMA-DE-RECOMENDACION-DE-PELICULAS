{
 "cells": [
  {
   "cell_type": "code",
   "execution_count": 2,
   "metadata": {},
   "outputs": [],
   "source": [
    "import pandas as pd\n",
    "import numpy as np\n",
    "import ast "
   ]
  },
  {
   "cell_type": "code",
   "execution_count": 3,
   "metadata": {},
   "outputs": [
    {
     "name": "stderr",
     "output_type": "stream",
     "text": [
      "C:\\Users\\fate8\\AppData\\Local\\Temp\\ipykernel_5200\\3265436363.py:2: DtypeWarning: Columns (10) have mixed types. Specify dtype option on import or set low_memory=False.\n",
      "  df_movies = pd.read_csv(\"../data_local/movies_dataset.csv\")\n"
     ]
    }
   ],
   "source": [
    "df_credits = pd.read_csv(\"../data_local/credits.csv\")\n",
    "df_movies = pd.read_csv(\"../data_local/movies_dataset.csv\")"
   ]
  },
  {
   "cell_type": "markdown",
   "metadata": {},
   "source": [
    "### Columnas que contienen dict o list\n",
    "- belong_to_collection\n",
    "- genres\n",
    "- production_companies\n",
    "- production_countries\n",
    "- spoken_languages\n"
   ]
  },
  {
   "cell_type": "markdown",
   "metadata": {},
   "source": [
    "### Datos necesarios para las funciones (movies)\n",
    "-  #de peliculas estrenadas x mes\n",
    "-  #de peliculas estrenadas x dia \n",
    "-  title, release_date, popularity\n",
    "-  title, ,release_date, vote_count, vote_average\n",
    "### Datos necesarios para las funciones (credits)\n",
    "- name (cast, crew), department \n",
    "- budget(costo), revenue(ganancia) \n",
    "\n",
    "### Datos necesarios para unir los datasets\n",
    "- id"
   ]
  },
  {
   "cell_type": "code",
   "execution_count": 4,
   "metadata": {},
   "outputs": [
    {
     "data": {
      "text/plain": [
       "0           [{'name': 'Pixar Animation Studios', 'id': 3}]\n",
       "1        [{'name': 'TriStar Pictures', 'id': 559}, {'na...\n",
       "2        [{'name': 'Warner Bros.', 'id': 6194}, {'name'...\n",
       "3        [{'name': 'Twentieth Century Fox Film Corporat...\n",
       "4        [{'name': 'Sandollar Productions', 'id': 5842}...\n",
       "                               ...                        \n",
       "45461                                                   []\n",
       "45462               [{'name': 'Sine Olivia', 'id': 19653}]\n",
       "45463    [{'name': 'American World Pictures', 'id': 6165}]\n",
       "45464                 [{'name': 'Yermoliev', 'id': 88753}]\n",
       "45465                                                   []\n",
       "Name: production_companies, Length: 45466, dtype: object"
      ]
     },
     "execution_count": 4,
     "metadata": {},
     "output_type": "execute_result"
    }
   ],
   "source": [
    "df_movies['production_companies']"
   ]
  },
  {
   "cell_type": "code",
   "execution_count": 5,
   "metadata": {},
   "outputs": [],
   "source": [
    "#Convertimos las filas de strings en estructuras de datos\n",
    "#Extraemos el  ID y el NAME si es un diccionario valido, de lo contrario añadimos un 0\n",
    "\n",
    "#belong_to_collection\n",
    "df_movies['belongs_to_collection'] = df_movies['belongs_to_collection'].apply(lambda x: ast.literal_eval(x)     if isinstance(x, str) else x)\n",
    "df_movies['id_collection'] = df_movies['belongs_to_collection'].apply(lambda x: x.get('id') if isinstance(x, dict) else 0    )\n",
    "df_movies['name_collection'] = df_movies['belongs_to_collection'].apply(lambda x: x.get('name') if isinstance(x, dict) else 0    )\n",
    "\n",
    "#production_companies\n",
    "df_movies['production_companies'] = df_movies['production_companies'].apply(lambda x: ast.literal_eval(x) if isinstance(x, str) else x)\n",
    "df_movies['id_companies'] = df_movies['production_companies'].apply(lambda x: x[0]['id'] if isinstance(x, list) and len(x) > 0 and isinstance(x[0], dict) else 0)\n",
    "df_movies['name_companies'] = df_movies['production_companies'].apply(lambda x: x[0]['name'] if isinstance(x, list) and len(x) > 0 and isinstance(x[0], dict) else 0)\n",
    "\n",
    "#production countries\n",
    "\n",
    "#spoken_languages"
   ]
  },
  {
   "cell_type": "markdown",
   "metadata": {},
   "source": [
    "## ETL movies"
   ]
  },
  {
   "cell_type": "code",
   "execution_count": 6,
   "metadata": {},
   "outputs": [],
   "source": [
    "df_movies_limpio = df_movies.copy()"
   ]
  },
  {
   "cell_type": "markdown",
   "metadata": {},
   "source": [
    "### **drop columns**"
   ]
  },
  {
   "cell_type": "code",
   "execution_count": 7,
   "metadata": {},
   "outputs": [],
   "source": [
    "df_movies_limpio = df_movies_limpio.drop(columns=['adult','belongs_to_collection','genres','homepage','imdb_id','original_language','original_title','overview','poster_path','production_companies','production_countries','runtime','spoken_languages','runtime','status','tagline','video'])"
   ]
  },
  {
   "cell_type": "markdown",
   "metadata": {},
   "source": [
    "### **order**"
   ]
  },
  {
   "cell_type": "code",
   "execution_count": 8,
   "metadata": {},
   "outputs": [],
   "source": [
    "new_order = ['id','title','release_date','popularity','vote_average','vote_count','id_collection','name_collection','id_companies','name_companies','revenue','budget']\n",
    "df_movies_limpio = df_movies_limpio[new_order]"
   ]
  },
  {
   "cell_type": "markdown",
   "metadata": {},
   "source": [
    "### **rename**"
   ]
  },
  {
   "cell_type": "code",
   "execution_count": 9,
   "metadata": {},
   "outputs": [],
   "source": [
    "df_movies_limpio.rename(columns={'id_collection': 'collection_id','name_collection':'collection_name','id_companies':'company_id','name_companies':'company_name'}, inplace=True)"
   ]
  },
  {
   "cell_type": "markdown",
   "metadata": {},
   "source": [
    "###  *copia de seguridad*"
   ]
  },
  {
   "cell_type": "code",
   "execution_count": 10,
   "metadata": {},
   "outputs": [],
   "source": [
    "df_movies_limpio_copia = df_movies_limpio.copy() "
   ]
  },
  {
   "cell_type": "markdown",
   "metadata": {},
   "source": [
    "### **nulls drop**"
   ]
  },
  {
   "cell_type": "code",
   "execution_count": 11,
   "metadata": {},
   "outputs": [],
   "source": [
    "df_movies_limpio = df_movies_limpio.dropna(subset=['release_date'])"
   ]
  },
  {
   "cell_type": "markdown",
   "metadata": {},
   "source": [
    "### **nullos por 0 (revenue-badget)**"
   ]
  },
  {
   "cell_type": "code",
   "execution_count": 12,
   "metadata": {},
   "outputs": [],
   "source": [
    "df_movies_limpio['revenue'] = df_movies_limpio['revenue'].fillna(0)\n",
    "df_movies_limpio['budget'] = df_movies_limpio['budget'].fillna(0)"
   ]
  },
  {
   "cell_type": "markdown",
   "metadata": {},
   "source": [
    "### **release date format**"
   ]
  },
  {
   "cell_type": "code",
   "execution_count": 13,
   "metadata": {},
   "outputs": [],
   "source": [
    "meses_español = [\n",
    "    'enero', 'febrero', 'marzo', 'abril', 'mayo', 'junio',\n",
    "    'julio', 'agosto', 'septiembre', 'octubre', 'noviembre', 'diciembre'\n",
    "]\n",
    "\n",
    "dias_espanol = [\n",
    "    'lunes', 'martes', 'miércoles', 'jueves', 'viernes', 'sábado', 'domingo'\n",
    "]"
   ]
  },
  {
   "cell_type": "code",
   "execution_count": 14,
   "metadata": {},
   "outputs": [],
   "source": [
    "mask = pd.to_datetime(df_movies_limpio['release_date'], format= '%Y-%m-%d', errors= 'coerce').notna()\n",
    "df_movies_limpio = df_movies_limpio[mask]\n",
    "df_movies_limpio['release_date'] = pd.to_datetime(df_movies_limpio['release_date'], format='%Y-%m-%d')\n",
    "df_movies_limpio['release_year'] = df_movies_limpio['release_date'].dt.year\n",
    "df_movies_limpio['release_month'] = df_movies_limpio['release_date'].dt.month.apply(lambda x: meses_español[x-1])\n",
    "df_movies_limpio['release_day'] = df_movies_limpio['release_date'].dt.dayofweek.apply(lambda x: dias_espanol[x])\n"
   ]
  },
  {
   "cell_type": "markdown",
   "metadata": {},
   "source": [
    "### **id-title-popularity-vote_count format**"
   ]
  },
  {
   "cell_type": "code",
   "execution_count": 17,
   "metadata": {},
   "outputs": [],
   "source": [
    "df_movies_limpio['id'] = df_movies_limpio['id'].astype(int)\n",
    "df_movies_limpio['title'] = df_movies_limpio['title'].astype(str)\n",
    "df_movies_limpio['popularity'] = df_movies_limpio['popularity'].astype(float)\n",
    "df_movies_limpio['vote_count'] = df_movies_limpio['vote_count'].astype(int)\n",
    "df_movies_limpio['revenue'] = df_movies_limpio['revenue'].astype(int)\n",
    "df_movies_limpio['budget'] = df_movies_limpio['budget'].astype(int)\n",
    "df_movies_limpio['return'] = df_movies_limpio['return'].apply(lambda x: format(x, '.3f'))\n"
   ]
  },
  {
   "cell_type": "code",
   "execution_count": 16,
   "metadata": {},
   "outputs": [],
   "source": [
    "df_movies_limpio['return'] = (df_movies_limpio['revenue']/df_movies_limpio['budget'].replace(0,1)).round(3)"
   ]
  },
  {
   "cell_type": "code",
   "execution_count": 18,
   "metadata": {},
   "outputs": [
    {
     "data": {
      "text/plain": [
       "id                          int64\n",
       "title                      object\n",
       "release_date       datetime64[ns]\n",
       "popularity                float64\n",
       "vote_average              float64\n",
       "vote_count                  int64\n",
       "collection_id               int64\n",
       "collection_name            object\n",
       "company_id                  int64\n",
       "company_name               object\n",
       "revenue                     int64\n",
       "budget                      int64\n",
       "release_year                int32\n",
       "release_month              object\n",
       "release_day                object\n",
       "return                     object\n",
       "dtype: object"
      ]
     },
     "execution_count": 18,
     "metadata": {},
     "output_type": "execute_result"
    }
   ],
   "source": [
    "df_movies_limpio.dtypes"
   ]
  },
  {
   "cell_type": "code",
   "execution_count": 19,
   "metadata": {},
   "outputs": [],
   "source": [
    "df_credits_crew = df_credits.copy()\n",
    "df_credits_cast = df_credits.copy()\n"
   ]
  },
  {
   "cell_type": "markdown",
   "metadata": {},
   "source": [
    "### **Extraccion crew_name_directing**"
   ]
  },
  {
   "cell_type": "code",
   "execution_count": 20,
   "metadata": {},
   "outputs": [],
   "source": [
    "df_credits_crew['crew'] = df_credits_crew['crew'].apply(lambda x: ast.literal_eval(x) if isinstance(x, str) else x)\n",
    "df_credits_crew['crew_name_directing'] = df_credits_crew['crew'].apply(\n",
    "    lambda crew: next((member['name'] for member in crew if member['job'] == 'Director'), None) if isinstance(crew, list) else None\n",
    ")"
   ]
  },
  {
   "cell_type": "code",
   "execution_count": 21,
   "metadata": {},
   "outputs": [],
   "source": [
    "df_credits_crew = df_credits_crew.drop(columns=['cast','crew'])"
   ]
  },
  {
   "cell_type": "markdown",
   "metadata": {},
   "source": [
    "### **Extraccion cast_name**"
   ]
  },
  {
   "cell_type": "code",
   "execution_count": 22,
   "metadata": {},
   "outputs": [],
   "source": [
    "df_credits_cast['cast'] = df_credits_cast['cast'].apply(lambda x: ast.literal_eval(x) if isinstance(x, str) else x)\n",
    "df_credits_cast['cast_name'] = df_credits_cast['cast'].apply(\n",
    "    lambda x: [member['name'] for member in x if isinstance(member, dict) and 'name' in member] if isinstance(x, list) else []\n",
    ")"
   ]
  },
  {
   "cell_type": "code",
   "execution_count": 23,
   "metadata": {},
   "outputs": [],
   "source": [
    "df_credits_cast = df_credits_cast.drop(columns=['cast','crew'])\n"
   ]
  },
  {
   "cell_type": "code",
   "execution_count": 33,
   "metadata": {},
   "outputs": [],
   "source": [
    "df_credits_crew = df_credits_crew.drop_duplicates(subset=['id'])"
   ]
  },
  {
   "cell_type": "code",
   "execution_count": 37,
   "metadata": {},
   "outputs": [],
   "source": [
    "df_credits_crew.to_csv('df_credits_crew.csv',index=False)"
   ]
  },
  {
   "cell_type": "code",
   "execution_count": 35,
   "metadata": {},
   "outputs": [],
   "source": [
    "df_credits_cast = df_credits_cast.drop_duplicates(subset=['id'])"
   ]
  },
  {
   "cell_type": "code",
   "execution_count": 39,
   "metadata": {},
   "outputs": [],
   "source": [
    "df_credits_cast.to_csv('df_credits_cast.csv',index=False)"
   ]
  },
  {
   "cell_type": "code",
   "execution_count": 40,
   "metadata": {},
   "outputs": [],
   "source": [
    "df_movies_limpio.to_csv('df_movies_limpio.csv',index=False)"
   ]
  },
  {
   "cell_type": "code",
   "execution_count": 31,
   "metadata": {},
   "outputs": [],
   "source": [
    "df_movies_limpio = df_movies_limpio.drop_duplicates(subset=['id'])"
   ]
  },
  {
   "cell_type": "code",
   "execution_count": 32,
   "metadata": {},
   "outputs": [
    {
     "data": {
      "text/plain": [
       "(45346, 16)"
      ]
     },
     "execution_count": 32,
     "metadata": {},
     "output_type": "execute_result"
    }
   ],
   "source": [
    "df_movies_limpio.shape"
   ]
  }
 ],
 "metadata": {
  "kernelspec": {
   "display_name": "envPI1T",
   "language": "python",
   "name": "python3"
  },
  "language_info": {
   "codemirror_mode": {
    "name": "ipython",
    "version": 3
   },
   "file_extension": ".py",
   "mimetype": "text/x-python",
   "name": "python",
   "nbconvert_exporter": "python",
   "pygments_lexer": "ipython3",
   "version": "3.12.4"
  }
 },
 "nbformat": 4,
 "nbformat_minor": 2
}
